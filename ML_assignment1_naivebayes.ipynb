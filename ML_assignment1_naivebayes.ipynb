{
 "cells": [
  {
   "cell_type": "code",
   "execution_count": 1,
   "metadata": {},
   "outputs": [],
   "source": [
    "import pickle\n",
    "import numpy as np\n",
    "import pandas as pd\n",
    "from matplotlib import pyplot as plt\n",
    "import seaborn as sns\n",
    "sns.set(color_codes=True) #导入seaborn包设定颜色\n",
    "\n",
    "from sklearn.model_selection import train_test_split\n",
    "from sklearn.naive_bayes import GaussianNB, MultinomialNB\n",
    "from sklearn import metrics"
   ]
  },
  {
   "cell_type": "code",
   "execution_count": 2,
   "metadata": {},
   "outputs": [],
   "source": [
    "from sklearn.datasets import load_digits\n",
    "from sklearn.model_selection import learning_curve\n",
    "from sklearn.model_selection import ShuffleSplit"
   ]
  },
  {
   "cell_type": "code",
   "execution_count": 3,
   "metadata": {},
   "outputs": [],
   "source": [
    "def plot_learning_curve(estimator, title, X, y, ylim=None, cv=None,\n",
    "                        n_jobs=1, train_sizes=np.linspace(.1, 1.0, 5)):\n",
    "    plt.figure()\n",
    "    plt.title(title)\n",
    "    if ylim is not None:\n",
    "        plt.ylim(*ylim)\n",
    "    plt.xlabel(\"Training examples\")\n",
    "    plt.ylabel(\"Score\")\n",
    "    train_sizes, train_scores, test_scores = learning_curve(\n",
    "        estimator, X, y, cv=cv, n_jobs=n_jobs, train_sizes=train_sizes)\n",
    "    train_scores_mean = np.mean(train_scores, axis=1)\n",
    "    train_scores_std = np.std(train_scores, axis=1)\n",
    "    test_scores_mean = np.mean(test_scores, axis=1)\n",
    "    test_scores_std = np.std(test_scores, axis=1)\n",
    "    plt.grid()\n",
    " \n",
    "    plt.fill_between(train_sizes, train_scores_mean - train_scores_std,\n",
    "                     train_scores_mean + train_scores_std, alpha=0.1,\n",
    "                     color=\"r\")\n",
    "    plt.fill_between(train_sizes, test_scores_mean - test_scores_std,\n",
    "                     test_scores_mean + test_scores_std, alpha=0.1, color=\"g\")\n",
    "    plt.plot(train_sizes, train_scores_mean, 'o-', color=\"r\",\n",
    "             label=\"Training score\")\n",
    "    plt.plot(train_sizes, test_scores_mean, 'o-', color=\"g\",\n",
    "             label=\"Test score\")\n",
    " \n",
    "    plt.legend(loc=\"best\")\n",
    "    return plt"
   ]
  },
  {
   "cell_type": "code",
   "execution_count": 4,
   "metadata": {},
   "outputs": [],
   "source": [
    "# create raw dataframe\n",
    "df_raw = pd.read_excel(\"MedicalCentre.xlsx\")\n",
    "df = df_raw.copy()"
   ]
  },
  {
   "cell_type": "code",
   "execution_count": 5,
   "metadata": {},
   "outputs": [
    {
     "ename": "KeyError",
     "evalue": "\"['PatientId'] not found in axis\"",
     "output_type": "error",
     "traceback": [
      "\u001b[0;31m---------------------------------------------------------------------------\u001b[0m",
      "\u001b[0;31mKeyError\u001b[0m                                  Traceback (most recent call last)",
      "\u001b[1;32m/Users/fandiors/Documents/Python_code/Machine_learning/Assignment1/ML_assignment1_naivebayes.ipynb Cell 5'\u001b[0m in \u001b[0;36m<module>\u001b[0;34m\u001b[0m\n\u001b[1;32m      <a href='vscode-notebook-cell:/Users/fandiors/Documents/Python_code/Machine_learning/Assignment1/ML_assignment1_naivebayes.ipynb#ch0000004?line=0'>1</a>\u001b[0m \u001b[39m# rename wrong columns\u001b[39;00m\n\u001b[1;32m      <a href='vscode-notebook-cell:/Users/fandiors/Documents/Python_code/Machine_learning/Assignment1/ML_assignment1_naivebayes.ipynb#ch0000004?line=1'>2</a>\u001b[0m \n\u001b[1;32m      <a href='vscode-notebook-cell:/Users/fandiors/Documents/Python_code/Machine_learning/Assignment1/ML_assignment1_naivebayes.ipynb#ch0000004?line=2'>3</a>\u001b[0m \u001b[39m# drop definitely useless columns\u001b[39;00m\n\u001b[0;32m----> <a href='vscode-notebook-cell:/Users/fandiors/Documents/Python_code/Machine_learning/Assignment1/ML_assignment1_naivebayes.ipynb#ch0000004?line=3'>4</a>\u001b[0m df\u001b[39m.\u001b[39;49mdrop(\u001b[39m'\u001b[39;49m\u001b[39mPatientId\u001b[39;49m\u001b[39m'\u001b[39;49m, axis\u001b[39m=\u001b[39;49m\u001b[39m1\u001b[39;49m, inplace\u001b[39m=\u001b[39;49m\u001b[39mTrue\u001b[39;49;00m)\n\u001b[1;32m      <a href='vscode-notebook-cell:/Users/fandiors/Documents/Python_code/Machine_learning/Assignment1/ML_assignment1_naivebayes.ipynb#ch0000004?line=4'>5</a>\u001b[0m df\u001b[39m.\u001b[39mdrop(\u001b[39m'\u001b[39m\u001b[39mAppointmentID\u001b[39m\u001b[39m'\u001b[39m, axis\u001b[39m=\u001b[39m\u001b[39m1\u001b[39m, inplace\u001b[39m=\u001b[39m\u001b[39mTrue\u001b[39;00m)\n",
      "File \u001b[0;32m~/Library/Python/3.9/lib/python/site-packages/pandas/util/_decorators.py:311\u001b[0m, in \u001b[0;36mdeprecate_nonkeyword_arguments.<locals>.decorate.<locals>.wrapper\u001b[0;34m(*args, **kwargs)\u001b[0m\n\u001b[1;32m    <a href='file:///~/Library/Python/3.9/lib/python/site-packages/pandas/util/_decorators.py?line=304'>305</a>\u001b[0m \u001b[39mif\u001b[39;00m \u001b[39mlen\u001b[39m(args) \u001b[39m>\u001b[39m num_allow_args:\n\u001b[1;32m    <a href='file:///~/Library/Python/3.9/lib/python/site-packages/pandas/util/_decorators.py?line=305'>306</a>\u001b[0m     warnings\u001b[39m.\u001b[39mwarn(\n\u001b[1;32m    <a href='file:///~/Library/Python/3.9/lib/python/site-packages/pandas/util/_decorators.py?line=306'>307</a>\u001b[0m         msg\u001b[39m.\u001b[39mformat(arguments\u001b[39m=\u001b[39marguments),\n\u001b[1;32m    <a href='file:///~/Library/Python/3.9/lib/python/site-packages/pandas/util/_decorators.py?line=307'>308</a>\u001b[0m         \u001b[39mFutureWarning\u001b[39;00m,\n\u001b[1;32m    <a href='file:///~/Library/Python/3.9/lib/python/site-packages/pandas/util/_decorators.py?line=308'>309</a>\u001b[0m         stacklevel\u001b[39m=\u001b[39mstacklevel,\n\u001b[1;32m    <a href='file:///~/Library/Python/3.9/lib/python/site-packages/pandas/util/_decorators.py?line=309'>310</a>\u001b[0m     )\n\u001b[0;32m--> <a href='file:///~/Library/Python/3.9/lib/python/site-packages/pandas/util/_decorators.py?line=310'>311</a>\u001b[0m \u001b[39mreturn\u001b[39;00m func(\u001b[39m*\u001b[39;49margs, \u001b[39m*\u001b[39;49m\u001b[39m*\u001b[39;49mkwargs)\n",
      "File \u001b[0;32m~/Library/Python/3.9/lib/python/site-packages/pandas/core/frame.py:4906\u001b[0m, in \u001b[0;36mDataFrame.drop\u001b[0;34m(self, labels, axis, index, columns, level, inplace, errors)\u001b[0m\n\u001b[1;32m   <a href='file:///~/Library/Python/3.9/lib/python/site-packages/pandas/core/frame.py?line=4773'>4774</a>\u001b[0m \u001b[39m@deprecate_nonkeyword_arguments\u001b[39m(version\u001b[39m=\u001b[39m\u001b[39mNone\u001b[39;00m, allowed_args\u001b[39m=\u001b[39m[\u001b[39m\"\u001b[39m\u001b[39mself\u001b[39m\u001b[39m\"\u001b[39m, \u001b[39m\"\u001b[39m\u001b[39mlabels\u001b[39m\u001b[39m\"\u001b[39m])\n\u001b[1;32m   <a href='file:///~/Library/Python/3.9/lib/python/site-packages/pandas/core/frame.py?line=4774'>4775</a>\u001b[0m \u001b[39mdef\u001b[39;00m \u001b[39mdrop\u001b[39m(\n\u001b[1;32m   <a href='file:///~/Library/Python/3.9/lib/python/site-packages/pandas/core/frame.py?line=4775'>4776</a>\u001b[0m     \u001b[39mself\u001b[39m,\n\u001b[0;32m   (...)\u001b[0m\n\u001b[1;32m   <a href='file:///~/Library/Python/3.9/lib/python/site-packages/pandas/core/frame.py?line=4782'>4783</a>\u001b[0m     errors: \u001b[39mstr\u001b[39m \u001b[39m=\u001b[39m \u001b[39m\"\u001b[39m\u001b[39mraise\u001b[39m\u001b[39m\"\u001b[39m,\n\u001b[1;32m   <a href='file:///~/Library/Python/3.9/lib/python/site-packages/pandas/core/frame.py?line=4783'>4784</a>\u001b[0m ):\n\u001b[1;32m   <a href='file:///~/Library/Python/3.9/lib/python/site-packages/pandas/core/frame.py?line=4784'>4785</a>\u001b[0m     \u001b[39m\"\"\"\u001b[39;00m\n\u001b[1;32m   <a href='file:///~/Library/Python/3.9/lib/python/site-packages/pandas/core/frame.py?line=4785'>4786</a>\u001b[0m \u001b[39m    Drop specified labels from rows or columns.\u001b[39;00m\n\u001b[1;32m   <a href='file:///~/Library/Python/3.9/lib/python/site-packages/pandas/core/frame.py?line=4786'>4787</a>\u001b[0m \n\u001b[0;32m   (...)\u001b[0m\n\u001b[1;32m   <a href='file:///~/Library/Python/3.9/lib/python/site-packages/pandas/core/frame.py?line=4903'>4904</a>\u001b[0m \u001b[39m            weight  1.0     0.8\u001b[39;00m\n\u001b[1;32m   <a href='file:///~/Library/Python/3.9/lib/python/site-packages/pandas/core/frame.py?line=4904'>4905</a>\u001b[0m \u001b[39m    \"\"\"\u001b[39;00m\n\u001b[0;32m-> <a href='file:///~/Library/Python/3.9/lib/python/site-packages/pandas/core/frame.py?line=4905'>4906</a>\u001b[0m     \u001b[39mreturn\u001b[39;00m \u001b[39msuper\u001b[39;49m()\u001b[39m.\u001b[39;49mdrop(\n\u001b[1;32m   <a href='file:///~/Library/Python/3.9/lib/python/site-packages/pandas/core/frame.py?line=4906'>4907</a>\u001b[0m         labels\u001b[39m=\u001b[39;49mlabels,\n\u001b[1;32m   <a href='file:///~/Library/Python/3.9/lib/python/site-packages/pandas/core/frame.py?line=4907'>4908</a>\u001b[0m         axis\u001b[39m=\u001b[39;49maxis,\n\u001b[1;32m   <a href='file:///~/Library/Python/3.9/lib/python/site-packages/pandas/core/frame.py?line=4908'>4909</a>\u001b[0m         index\u001b[39m=\u001b[39;49mindex,\n\u001b[1;32m   <a href='file:///~/Library/Python/3.9/lib/python/site-packages/pandas/core/frame.py?line=4909'>4910</a>\u001b[0m         columns\u001b[39m=\u001b[39;49mcolumns,\n\u001b[1;32m   <a href='file:///~/Library/Python/3.9/lib/python/site-packages/pandas/core/frame.py?line=4910'>4911</a>\u001b[0m         level\u001b[39m=\u001b[39;49mlevel,\n\u001b[1;32m   <a href='file:///~/Library/Python/3.9/lib/python/site-packages/pandas/core/frame.py?line=4911'>4912</a>\u001b[0m         inplace\u001b[39m=\u001b[39;49minplace,\n\u001b[1;32m   <a href='file:///~/Library/Python/3.9/lib/python/site-packages/pandas/core/frame.py?line=4912'>4913</a>\u001b[0m         errors\u001b[39m=\u001b[39;49merrors,\n\u001b[1;32m   <a href='file:///~/Library/Python/3.9/lib/python/site-packages/pandas/core/frame.py?line=4913'>4914</a>\u001b[0m     )\n",
      "File \u001b[0;32m~/Library/Python/3.9/lib/python/site-packages/pandas/core/generic.py:4150\u001b[0m, in \u001b[0;36mNDFrame.drop\u001b[0;34m(self, labels, axis, index, columns, level, inplace, errors)\u001b[0m\n\u001b[1;32m   <a href='file:///~/Library/Python/3.9/lib/python/site-packages/pandas/core/generic.py?line=4147'>4148</a>\u001b[0m \u001b[39mfor\u001b[39;00m axis, labels \u001b[39min\u001b[39;00m axes\u001b[39m.\u001b[39mitems():\n\u001b[1;32m   <a href='file:///~/Library/Python/3.9/lib/python/site-packages/pandas/core/generic.py?line=4148'>4149</a>\u001b[0m     \u001b[39mif\u001b[39;00m labels \u001b[39mis\u001b[39;00m \u001b[39mnot\u001b[39;00m \u001b[39mNone\u001b[39;00m:\n\u001b[0;32m-> <a href='file:///~/Library/Python/3.9/lib/python/site-packages/pandas/core/generic.py?line=4149'>4150</a>\u001b[0m         obj \u001b[39m=\u001b[39m obj\u001b[39m.\u001b[39;49m_drop_axis(labels, axis, level\u001b[39m=\u001b[39;49mlevel, errors\u001b[39m=\u001b[39;49merrors)\n\u001b[1;32m   <a href='file:///~/Library/Python/3.9/lib/python/site-packages/pandas/core/generic.py?line=4151'>4152</a>\u001b[0m \u001b[39mif\u001b[39;00m inplace:\n\u001b[1;32m   <a href='file:///~/Library/Python/3.9/lib/python/site-packages/pandas/core/generic.py?line=4152'>4153</a>\u001b[0m     \u001b[39mself\u001b[39m\u001b[39m.\u001b[39m_update_inplace(obj)\n",
      "File \u001b[0;32m~/Library/Python/3.9/lib/python/site-packages/pandas/core/generic.py:4185\u001b[0m, in \u001b[0;36mNDFrame._drop_axis\u001b[0;34m(self, labels, axis, level, errors)\u001b[0m\n\u001b[1;32m   <a href='file:///~/Library/Python/3.9/lib/python/site-packages/pandas/core/generic.py?line=4182'>4183</a>\u001b[0m         new_axis \u001b[39m=\u001b[39m axis\u001b[39m.\u001b[39mdrop(labels, level\u001b[39m=\u001b[39mlevel, errors\u001b[39m=\u001b[39merrors)\n\u001b[1;32m   <a href='file:///~/Library/Python/3.9/lib/python/site-packages/pandas/core/generic.py?line=4183'>4184</a>\u001b[0m     \u001b[39melse\u001b[39;00m:\n\u001b[0;32m-> <a href='file:///~/Library/Python/3.9/lib/python/site-packages/pandas/core/generic.py?line=4184'>4185</a>\u001b[0m         new_axis \u001b[39m=\u001b[39m axis\u001b[39m.\u001b[39;49mdrop(labels, errors\u001b[39m=\u001b[39;49merrors)\n\u001b[1;32m   <a href='file:///~/Library/Python/3.9/lib/python/site-packages/pandas/core/generic.py?line=4185'>4186</a>\u001b[0m     result \u001b[39m=\u001b[39m \u001b[39mself\u001b[39m\u001b[39m.\u001b[39mreindex(\u001b[39m*\u001b[39m\u001b[39m*\u001b[39m{axis_name: new_axis})\n\u001b[1;32m   <a href='file:///~/Library/Python/3.9/lib/python/site-packages/pandas/core/generic.py?line=4187'>4188</a>\u001b[0m \u001b[39m# Case for non-unique axis\u001b[39;00m\n\u001b[1;32m   <a href='file:///~/Library/Python/3.9/lib/python/site-packages/pandas/core/generic.py?line=4188'>4189</a>\u001b[0m \u001b[39melse\u001b[39;00m:\n",
      "File \u001b[0;32m~/Library/Python/3.9/lib/python/site-packages/pandas/core/indexes/base.py:6017\u001b[0m, in \u001b[0;36mIndex.drop\u001b[0;34m(self, labels, errors)\u001b[0m\n\u001b[1;32m   <a href='file:///~/Library/Python/3.9/lib/python/site-packages/pandas/core/indexes/base.py?line=6014'>6015</a>\u001b[0m \u001b[39mif\u001b[39;00m mask\u001b[39m.\u001b[39many():\n\u001b[1;32m   <a href='file:///~/Library/Python/3.9/lib/python/site-packages/pandas/core/indexes/base.py?line=6015'>6016</a>\u001b[0m     \u001b[39mif\u001b[39;00m errors \u001b[39m!=\u001b[39m \u001b[39m\"\u001b[39m\u001b[39mignore\u001b[39m\u001b[39m\"\u001b[39m:\n\u001b[0;32m-> <a href='file:///~/Library/Python/3.9/lib/python/site-packages/pandas/core/indexes/base.py?line=6016'>6017</a>\u001b[0m         \u001b[39mraise\u001b[39;00m \u001b[39mKeyError\u001b[39;00m(\u001b[39mf\u001b[39m\u001b[39m\"\u001b[39m\u001b[39m{\u001b[39;00mlabels[mask]\u001b[39m}\u001b[39;00m\u001b[39m not found in axis\u001b[39m\u001b[39m\"\u001b[39m)\n\u001b[1;32m   <a href='file:///~/Library/Python/3.9/lib/python/site-packages/pandas/core/indexes/base.py?line=6017'>6018</a>\u001b[0m     indexer \u001b[39m=\u001b[39m indexer[\u001b[39m~\u001b[39mmask]\n\u001b[1;32m   <a href='file:///~/Library/Python/3.9/lib/python/site-packages/pandas/core/indexes/base.py?line=6018'>6019</a>\u001b[0m \u001b[39mreturn\u001b[39;00m \u001b[39mself\u001b[39m\u001b[39m.\u001b[39mdelete(indexer)\n",
      "\u001b[0;31mKeyError\u001b[0m: \"['PatientId'] not found in axis\""
     ]
    }
   ],
   "source": [
    "# rename wrong columns\n",
    "\n",
    "# drop definitely useless columns\n",
    "df.drop('PatientId', axis=1, inplace=True)\n",
    "df.drop('AppointmentID', axis=1, inplace=True)"
   ]
  },
  {
   "cell_type": "code",
   "execution_count": null,
   "metadata": {},
   "outputs": [
    {
     "data": {
      "text/plain": [
       "Gender            0\n",
       "ScheduledDay      0\n",
       "AppointmentDay    0\n",
       "Age               0\n",
       "Neighbourhood     0\n",
       "Scholarship       0\n",
       "Hipertension      0\n",
       "Diabetes          0\n",
       "Alcoholism        0\n",
       "Handcap           0\n",
       "SMS_received      0\n",
       "No-show           0\n",
       "dtype: int64"
      ]
     },
     "execution_count": 6,
     "metadata": {},
     "output_type": "execute_result"
    }
   ],
   "source": [
    "# dealing with missing data\n",
    "df.isnull().sum()"
   ]
  },
  {
   "cell_type": "code",
   "execution_count": null,
   "metadata": {},
   "outputs": [
    {
     "name": "stdout",
     "output_type": "stream",
     "text": [
      "F    0.649977\n",
      "M    0.350023\n",
      "Name: Gender, dtype: float64\n",
      "\n",
      "\n",
      "2016-05-06T07:09:54Z    0.000217\n",
      "2016-05-06T07:09:53Z    0.000208\n",
      "2016-04-25T17:18:27Z    0.000199\n",
      "2016-04-25T17:17:46Z    0.000199\n",
      "2016-04-25T17:17:23Z    0.000172\n",
      "                          ...   \n",
      "2016-05-02T09:53:25Z    0.000009\n",
      "2016-05-30T09:12:28Z    0.000009\n",
      "2016-05-16T09:10:04Z    0.000009\n",
      "2016-05-09T10:17:48Z    0.000009\n",
      "2016-04-27T13:30:56Z    0.000009\n",
      "Name: ScheduledDay, Length: 103549, dtype: float64\n",
      "\n",
      "\n",
      "2016-06-06T00:00:00Z    0.042451\n",
      "2016-05-16T00:00:00Z    0.041736\n",
      "2016-05-09T00:00:00Z    0.040895\n",
      "2016-05-30T00:00:00Z    0.040841\n",
      "2016-06-08T00:00:00Z    0.040524\n",
      "2016-05-11T00:00:00Z    0.040479\n",
      "2016-06-01T00:00:00Z    0.040388\n",
      "2016-06-07T00:00:00Z    0.039954\n",
      "2016-05-12T00:00:00Z    0.039755\n",
      "2016-05-02T00:00:00Z    0.039592\n",
      "2016-05-18T00:00:00Z    0.039565\n",
      "2016-05-17T00:00:00Z    0.039556\n",
      "2016-06-02T00:00:00Z    0.038995\n",
      "2016-05-10T00:00:00Z    0.038977\n",
      "2016-05-31T00:00:00Z    0.038715\n",
      "2016-05-05T00:00:00Z    0.038660\n",
      "2016-05-19T00:00:00Z    0.038633\n",
      "2016-05-03T00:00:00Z    0.038506\n",
      "2016-05-04T00:00:00Z    0.037710\n",
      "2016-06-03T00:00:00Z    0.037005\n",
      "2016-05-24T00:00:00Z    0.036272\n",
      "2016-05-13T00:00:00Z    0.036073\n",
      "2016-05-25T00:00:00Z    0.035367\n",
      "2016-05-06T00:00:00Z    0.035095\n",
      "2016-05-20T00:00:00Z    0.034634\n",
      "2016-04-29T00:00:00Z    0.029269\n",
      "2016-05-14T00:00:00Z    0.000353\n",
      "Name: AppointmentDay, dtype: float64\n",
      "\n",
      "\n",
      " 0      0.032019\n",
      " 1      0.020565\n",
      " 52     0.015797\n",
      " 49     0.014947\n",
      " 53     0.014938\n",
      "          ...   \n",
      " 115    0.000045\n",
      " 100    0.000036\n",
      " 102    0.000018\n",
      " 99     0.000009\n",
      "-1      0.000009\n",
      "Name: Age, Length: 104, dtype: float64\n",
      "\n",
      "\n",
      "JARDIM CAMBURI                  0.069820\n",
      "MARIA ORTIZ                     0.052521\n",
      "RESISTÃŠNCIA                    0.040090\n",
      "JARDIM DA PENHA                 0.035077\n",
      "ITARARÃ‰                        0.031793\n",
      "                                  ...   \n",
      "ILHA DO BOI                     0.000317\n",
      "ILHA DO FRADE                   0.000090\n",
      "AEROPORTO                       0.000072\n",
      "ILHAS OCEÃ‚NICAS DE TRINDADE    0.000018\n",
      "PARQUE INDUSTRIAL               0.000009\n",
      "Name: Neighbourhood, Length: 81, dtype: float64\n",
      "\n",
      "\n",
      "0    0.901734\n",
      "1    0.098266\n",
      "Name: Scholarship, dtype: float64\n",
      "\n",
      "\n",
      "0    0.802754\n",
      "1    0.197246\n",
      "Name: Hipertension, dtype: float64\n",
      "\n",
      "\n",
      "0    0.928135\n",
      "1    0.071865\n",
      "Name: Diabetes, dtype: float64\n",
      "\n",
      "\n",
      "0    0.9696\n",
      "1    0.0304\n",
      "Name: Alcoholism, dtype: float64\n",
      "\n",
      "\n",
      "0    0.979724\n",
      "1    0.018475\n",
      "2    0.001656\n",
      "3    0.000118\n",
      "4    0.000027\n",
      "Name: Handcap, dtype: float64\n",
      "\n",
      "\n",
      "0    0.678974\n",
      "1    0.321026\n",
      "Name: SMS_received, dtype: float64\n",
      "\n",
      "\n",
      "No     0.798067\n",
      "Yes    0.201933\n",
      "Name: No-show, dtype: float64\n",
      "\n",
      "\n"
     ]
    }
   ],
   "source": [
    "# determine the frequency of each value in features\n",
    "columns = df.columns\n",
    "for i in columns:\n",
    "    print(df[i].value_counts(normalize = True))\n",
    "    print(\"\\n\")"
   ]
  },
  {
   "cell_type": "code",
   "execution_count": null,
   "metadata": {},
   "outputs": [],
   "source": [
    "# plot all features within the dataset to visualize for outliers\n",
    "# sns.histplot(df['Age'])\n",
    "# plt.subplot(2, 2, 1)\n",
    "# sns.boxplot(x = df['Age'])\n",
    "# plt.subplot(2, 2, 2)\n",
    "# sns.countplot(x = df['Gender'])\n",
    "# plt.subplot(2, 2, 3)\n",
    "# sns.countplot(x = df['WaitingTime'])\n",
    "# plt.subplot(2, 2, 4)\n",
    "# sns.countplot(x = df['No-show'])\n",
    "# plt.show()"
   ]
  },
  {
   "cell_type": "code",
   "execution_count": null,
   "metadata": {},
   "outputs": [],
   "source": [
    "# \"Time\" processing\n",
    "# timlize the data from these two columns\n",
    "df['ScheduledDay'] = pd.to_datetime(df_raw['ScheduledDay'], errors='ignore')\n",
    "df['AppointmentDay'] = pd.to_datetime(df_raw['AppointmentDay'], errors='ignore')\n",
    "\n",
    "# create the column of waiting time\n",
    "df['WaitingTime'] = df['AppointmentDay'] - df['ScheduledDay']\n",
    "# convert it into day format and eliminate the negative ones\n",
    "df['WaitingTime']= df['WaitingTime'].apply(lambda x: x.days) + 1\n",
    "\n",
    "# normalize waiting time\n",
    "df['WaitingTime'] = (df['WaitingTime'] - df['WaitingTime'].min()) / \\\n",
    "(df['WaitingTime'].max() - df['WaitingTime'].min())\n",
    "\n"
   ]
  },
  {
   "cell_type": "code",
   "execution_count": null,
   "metadata": {},
   "outputs": [],
   "source": [
    "# \"Age\" processing\n",
    "# eliminate the outliers of ages which are < 0, or > 100\n",
    "# df = df[df['Age']>=0]\n",
    "# df = df[df['Age']<=100]\n",
    "df = df[(df['Age']>=0) & (df['Age']<=100)]\n",
    "\n",
    "# normalize the age column\n",
    "df['Age'] = (df['Age'] - df['Age'].min()) / (df['Age'].max() - df['Age'].min())"
   ]
  },
  {
   "cell_type": "code",
   "execution_count": null,
   "metadata": {},
   "outputs": [],
   "source": [
    "# \"Neighbourhood\" processing\n",
    "# df.drop('Neighbourhood', axis=1, inplace=True)\n",
    "neighbourmap = {elem:index+1 for index,elem in enumerate(set(df[\"Neighbourhood\"]))}\n",
    "df['Neighbourhood'] = df['Neighbourhood'].map(neighbourmap)\n",
    "# 归一化\n",
    "df['Neighbourhood'] = (df['Neighbourhood'] - df['Neighbourhood'].min()) / \\\n",
    "(df['Neighbourhood'].max() - df['Neighbourhood'].min())"
   ]
  },
  {
   "cell_type": "code",
   "execution_count": null,
   "metadata": {},
   "outputs": [],
   "source": [
    "# drop ScheduledDay and AppointmentDay\n",
    "df.drop('ScheduledDay', axis=1, inplace=True)\n",
    "df.drop('AppointmentDay', axis=1, inplace=True)\n",
    "\n",
    "# move the waiting time column to a better place\n",
    "temp = df.pop('WaitingTime')\n",
    "df.insert(2, 'WaitingTime', temp)"
   ]
  },
  {
   "cell_type": "code",
   "execution_count": null,
   "metadata": {},
   "outputs": [],
   "source": [
    "# binarilize Gender and No-show\n",
    "df[\"Gender\"] = df['Gender'].replace({'F': 0, 'M': 1})\n",
    "df[\"No-show\"] = df['No-show'].replace({'No': 0, 'Yes': 1})"
   ]
  },
  {
   "cell_type": "code",
   "execution_count": null,
   "metadata": {},
   "outputs": [
    {
     "data": {
      "image/png": "[encoded data removed]",
      "text/plain": [
       "<Figure size 432x288 with 2 Axes>"
      ]
     },
     "metadata": {},
     "output_type": "display_data"
    }
   ],
   "source": [
    "# process correlating features\n",
    "corr = df.corr()\n",
    "sns.heatmap(corr,\n",
    "            xticklabels = corr.columns,\n",
    "            yticklabels = corr.columns)\n",
    "df.drop('Hipertension', axis=1, inplace=True)\n",
    "df.drop('SMS_received', axis=1, inplace=True)"
   ]
  },
  {
   "cell_type": "code",
   "execution_count": null,
   "metadata": {},
   "outputs": [
    {
     "data": {
      "image/png": "[encoded data removed]",
      "text/plain": [
       "<Figure size 432x288 with 4 Axes>"
      ]
     },
     "metadata": {},
     "output_type": "display_data"
    }
   ],
   "source": [
    "plt.subplot(2, 2, 1)\n",
    "sns.boxplot(x = df['Age'])\n",
    "plt.subplot(2, 2, 2)\n",
    "sns.countplot(x = df['Gender'])\n",
    "plt.subplot(2, 2, 3)\n",
    "sns.histplot(x = df['WaitingTime'])\n",
    "plt.subplot(2, 2, 4)\n",
    "sns.countplot(x = df['No-show'])\n",
    "plt.show()"
   ]
  },
  {
   "cell_type": "code",
   "execution_count": null,
   "metadata": {},
   "outputs": [],
   "source": [
    "y = df.pop('No-show')\n",
    "X = df.copy()\n",
    "\n",
    "X_train, X_test, y_train, y_test = train_test_split(X, y, \n",
    "                                                    test_size=0.3, \n",
    "                                                    random_state=20)"
   ]
  },
  {
   "cell_type": "code",
   "execution_count": null,
   "metadata": {},
   "outputs": [],
   "source": [
    "from sklearn.naive_bayes import GaussianNB\n",
    "from sklearn.model_selection import GridSearchCV\n",
    "\n",
    "param_grid_nb = {\n",
    "    'var_smoothing': np.logspace(0,-2, num=100)\n",
    "}\n",
    "nbModel_grid = GridSearchCV(estimator=GaussianNB(), param_grid=param_grid_nb, verbose=1, cv=10, n_jobs=-1)"
   ]
  },
  {
   "cell_type": "code",
   "execution_count": null,
   "metadata": {},
   "outputs": [
    {
     "name": "stdout",
     "output_type": "stream",
     "text": [
      "the accuracy of this model is:  0.7829352153456388\n",
      "1\n",
      "[[25447  6214]\n",
      " [  983   512]]\n"
     ]
    }
   ],
   "source": [
    "naive_bayes = GaussianNB()\n",
    "# naive_bayes = MultinomialNB()\n",
    " \n",
    "#Fitting the data to the classifier\n",
    "naive_bayes.fit(X_train , y_train)\n",
    " \n",
    "#Predict on test data\n",
    "y_predicted = naive_bayes.predict(X_test)\n",
    "\n",
    "m = metrics.confusion_matrix(y_predicted , y_test)\n",
    "print(\"the accuracy of this model is: \",\n",
    "      metrics.accuracy_score(y_predicted , y_test))\n",
    "print(m)"
   ]
  },
  {
   "cell_type": "code",
   "execution_count": null,
   "metadata": {},
   "outputs": [
    {
     "data": {
      "image/png": "[encoded data removed]",
      "text/plain": [
       "<Figure size 432x288 with 1 Axes>"
      ]
     },
     "metadata": {},
     "output_type": "display_data"
    }
   ],
   "source": [
    "title = r\"Learning Curves (Naive Bayes)\"\n",
    "# cv = ShuffleSplit(n_splits=10, test_size=0.2, random_state=10)\n",
    "plot_learning_curve(naive_bayes, title, X, y, ylim=(0.7, 1.01), cv=None, n_jobs=4)\n",
    "plt.show()"
   ]
  }
 ],
 "metadata": {
  "interpreter": {
   "hash": "7812ea015bdcee6f23a998adcdd2ef97c151c0c241b7b7070987d9313e41299d"
  },
  "kernelspec": {
   "display_name": "Python 3.9.2 64-bit",
   "language": "python",
   "name": "python3"
  },
  "language_info": {
   "codemirror_mode": {
    "name": "ipython",
    "version": 3
   },
   "file_extension": ".py",
   "mimetype": "text/x-python",
   "name": "python",
   "nbconvert_exporter": "python",
   "pygments_lexer": "ipython3",
   "version": "3.9.2"
  },
  "orig_nbformat": 4
 },
 "nbformat": 4,
 "nbformat_minor": 2
}
