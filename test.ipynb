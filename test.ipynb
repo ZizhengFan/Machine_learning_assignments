{
 "cells": [
  {
   "cell_type": "code",
   "execution_count": 8,
   "metadata": {},
   "outputs": [],
   "source": [
    "import pickle \n",
    "import numpy as np\n",
    "import pandas as pd\n",
    "from sklearn.model_selection import train_test_split"
   ]
  },
  {
   "cell_type": "code",
   "execution_count": 9,
   "metadata": {},
   "outputs": [],
   "source": [
    "with open('df.pickle','rb') as read_file:\n",
    "    df = pickle.load(read_file)"
   ]
  },
  {
   "cell_type": "code",
   "execution_count": 10,
   "metadata": {},
   "outputs": [
    {
     "name": "stderr",
     "output_type": "stream",
     "text": [
      "/Library/Frameworks/Python.framework/Versions/3.9/lib/python3.9/site-packages/sklearn/base.py:450: UserWarning: X does not have valid feature names, but QuantileTransformer was fitted with feature names\n",
      "  warnings.warn(\n"
     ]
    },
    {
     "data": {
      "text/html": [
       "<div>\n",
       "<style scoped>\n",
       "    .dataframe tbody tr th:only-of-type {\n",
       "        vertical-align: middle;\n",
       "    }\n",
       "\n",
       "    .dataframe tbody tr th {\n",
       "        vertical-align: top;\n",
       "    }\n",
       "\n",
       "    .dataframe thead th {\n",
       "        text-align: right;\n",
       "    }\n",
       "</style>\n",
       "<table border=\"1\" class=\"dataframe\">\n",
       "  <thead>\n",
       "    <tr style=\"text-align: right;\">\n",
       "      <th></th>\n",
       "      <th>Age</th>\n",
       "      <th>No-show</th>\n",
       "      <th>ScheduledDay_Hours</th>\n",
       "      <th>ScheduledDay_Date</th>\n",
       "      <th>AppointmentDay_Date</th>\n",
       "      <th>day_difference</th>\n",
       "      <th>appointment_weekday</th>\n",
       "      <th>schedule_weekday</th>\n",
       "      <th>prior_no_shows</th>\n",
       "    </tr>\n",
       "  </thead>\n",
       "  <tbody>\n",
       "    <tr>\n",
       "      <th>0</th>\n",
       "      <td>0.356857</td>\n",
       "      <td>1.0</td>\n",
       "      <td>0.935435</td>\n",
       "      <td>0.910410</td>\n",
       "      <td>0.898899</td>\n",
       "      <td>0.894394</td>\n",
       "      <td>0.919419</td>\n",
       "      <td>0.329329</td>\n",
       "      <td>0.0</td>\n",
       "    </tr>\n",
       "    <tr>\n",
       "      <th>1</th>\n",
       "      <td>0.657658</td>\n",
       "      <td>0.0</td>\n",
       "      <td>0.971471</td>\n",
       "      <td>0.884384</td>\n",
       "      <td>0.898899</td>\n",
       "      <td>0.356356</td>\n",
       "      <td>0.919419</td>\n",
       "      <td>0.753754</td>\n",
       "      <td>0.0</td>\n",
       "    </tr>\n",
       "    <tr>\n",
       "      <th>2</th>\n",
       "      <td>0.784284</td>\n",
       "      <td>0.0</td>\n",
       "      <td>0.507508</td>\n",
       "      <td>0.910410</td>\n",
       "      <td>0.898899</td>\n",
       "      <td>0.894394</td>\n",
       "      <td>0.919419</td>\n",
       "      <td>0.329329</td>\n",
       "      <td>0.0</td>\n",
       "    </tr>\n",
       "    <tr>\n",
       "      <th>3</th>\n",
       "      <td>0.332833</td>\n",
       "      <td>0.0</td>\n",
       "      <td>0.507508</td>\n",
       "      <td>0.910410</td>\n",
       "      <td>0.898899</td>\n",
       "      <td>0.894394</td>\n",
       "      <td>0.919419</td>\n",
       "      <td>0.329329</td>\n",
       "      <td>0.0</td>\n",
       "    </tr>\n",
       "    <tr>\n",
       "      <th>4</th>\n",
       "      <td>0.560060</td>\n",
       "      <td>0.0</td>\n",
       "      <td>0.875876</td>\n",
       "      <td>0.910410</td>\n",
       "      <td>0.898899</td>\n",
       "      <td>0.000000</td>\n",
       "      <td>0.919419</td>\n",
       "      <td>0.916917</td>\n",
       "      <td>0.0</td>\n",
       "    </tr>\n",
       "  </tbody>\n",
       "</table>\n",
       "</div>"
      ],
      "text/plain": [
       "        Age  No-show  ScheduledDay_Hours  ScheduledDay_Date  \\\n",
       "0  0.356857      1.0            0.935435           0.910410   \n",
       "1  0.657658      0.0            0.971471           0.884384   \n",
       "2  0.784284      0.0            0.507508           0.910410   \n",
       "3  0.332833      0.0            0.507508           0.910410   \n",
       "4  0.560060      0.0            0.875876           0.910410   \n",
       "\n",
       "   AppointmentDay_Date  day_difference  appointment_weekday  schedule_weekday  \\\n",
       "0             0.898899        0.894394             0.919419          0.329329   \n",
       "1             0.898899        0.356356             0.919419          0.753754   \n",
       "2             0.898899        0.894394             0.919419          0.329329   \n",
       "3             0.898899        0.894394             0.919419          0.329329   \n",
       "4             0.898899        0.000000             0.919419          0.916917   \n",
       "\n",
       "   prior_no_shows  \n",
       "0             0.0  \n",
       "1             0.0  \n",
       "2             0.0  \n",
       "3             0.0  \n",
       "4             0.0  "
      ]
     },
     "execution_count": 10,
     "metadata": {},
     "output_type": "execute_result"
    }
   ],
   "source": [
    "columns = df.columns\n",
    "from sklearn.preprocessing import QuantileTransformer\n",
    "x=df\n",
    "quantile  = QuantileTransformer()\n",
    "X = quantile.fit_transform(x)\n",
    "df_new=quantile.transform(X)\n",
    "df_new=pd.DataFrame(X)\n",
    "df_new.columns = columns\n",
    "df_new.head()"
   ]
  },
  {
   "cell_type": "code",
   "execution_count": 11,
   "metadata": {},
   "outputs": [],
   "source": [
    "y = df.pop('No-show')\n",
    "X = df.copy()\n",
    "\n",
    "X_train, X_test, y_train, y_test = train_test_split(X, y, \n",
    "                                                    test_size=0.3, \n",
    "                                                    random_state=20)"
   ]
  },
  {
   "cell_type": "code",
   "execution_count": 12,
   "metadata": {},
   "outputs": [],
   "source": [
    "from sklearn.naive_bayes import GaussianNB\n",
    "from sklearn.model_selection import GridSearchCV\n",
    "\n",
    "param_grid_nb = {\n",
    "    'var_smoothing': np.logspace(0,-2, num=100)\n",
    "}\n",
    "nbModel_grid = GridSearchCV(estimator=GaussianNB(), param_grid=param_grid_nb, verbose=1, cv=10, n_jobs=-1)"
   ]
  },
  {
   "cell_type": "code",
   "execution_count": 13,
   "metadata": {},
   "outputs": [
    {
     "name": "stdout",
     "output_type": "stream",
     "text": [
      "Fitting 10 folds for each of 100 candidates, totalling 1000 fits\n"
     ]
    }
   ],
   "source": [
    "best_model= nbModel_grid.fit(X_train, y_train)\n",
    "nb_pred=best_model.predict(X_test)\n"
   ]
  },
  {
   "cell_type": "code",
   "execution_count": 14,
   "metadata": {},
   "outputs": [
    {
     "name": "stdout",
     "output_type": "stream",
     "text": [
      "[[14857  3805]\n",
      " [   20     7]] \n",
      "\n",
      "Classification Report is:\n",
      "               precision    recall  f1-score   support\n",
      "\n",
      "         0.0       0.80      1.00      0.89     14877\n",
      "         1.0       0.26      0.00      0.00      3812\n",
      "\n",
      "    accuracy                           0.80     18689\n",
      "   macro avg       0.53      0.50      0.44     18689\n",
      "weighted avg       0.69      0.80      0.71     18689\n",
      "\n",
      "\n",
      " F1:\n",
      " 0.0036467830164105238\n",
      "\n",
      " Precision score is:\n",
      " 0.25925925925925924\n",
      "\n",
      " Recall score is:\n",
      " 0.0018363064008394543\n"
     ]
    }
   ],
   "source": [
    "from sklearn.metrics import classification_report,confusion_matrix\n",
    "from sklearn.metrics import f1_score, precision_score, recall_score\n",
    "\n",
    "m = confusion_matrix(nb_pred, y_test)\n",
    "print(m, \"\\n\")\n",
    "print(\"Classification Report is:\\n\",classification_report(y_test,nb_pred))\n",
    "print(\"\\n F1:\\n\",f1_score(y_test,nb_pred))\n",
    "print(\"\\n Precision score is:\\n\",precision_score(y_test,nb_pred))\n",
    "print(\"\\n Recall score is:\\n\",recall_score(y_test,nb_pred))"
   ]
  }
 ],
 "metadata": {
  "interpreter": {
   "hash": "7812ea015bdcee6f23a998adcdd2ef97c151c0c241b7b7070987d9313e41299d"
  },
  "kernelspec": {
   "display_name": "Python 3.9.2 64-bit",
   "language": "python",
   "name": "python3"
  },
  "language_info": {
   "codemirror_mode": {
    "name": "ipython",
    "version": 3
   },
   "file_extension": ".py",
   "mimetype": "text/x-python",
   "name": "python",
   "nbconvert_exporter": "python",
   "pygments_lexer": "ipython3",
   "version": "3.9.2"
  },
  "orig_nbformat": 4
 },
 "nbformat": 4,
 "nbformat_minor": 2
}
