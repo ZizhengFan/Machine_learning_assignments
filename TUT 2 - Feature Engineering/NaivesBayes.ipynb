{
  "cells": [
    {
      "cell_type": "code",
      "execution_count": 1,
      "metadata": {
        "id": "JHNvsFw7JuWP"
      },
      "outputs": [],
      "source": [
        "#Loading the Dataset\n",
        "from sklearn.datasets import load_breast_cancer\n",
        " \n",
        "# data_loaded = load_breast_cancer()\n",
        "data_loaded = load_breast_cancer()\n",
        "X = data_loaded.data\n",
        "y = data_loaded.target  "
      ]
    },
    {
      "cell_type": "code",
      "execution_count": 2,
      "metadata": {
        "id": "blZDo7o1J1gy"
      },
      "outputs": [],
      "source": [
        "#Splitting the dataset into training and testing variables\n",
        "from sklearn.model_selection import train_test_split\n",
        " \n",
        "X_train, X_test, y_train, y_test = train_test_split(X, y, test_size=0.2,random_state=20)\n",
        " \n",
        "#keeping 80% as training data and 20% as testing data."
      ]
    },
    {
      "cell_type": "code",
      "execution_count": 3,
      "metadata": {
        "id": "4R3ivM38K85_"
      },
      "outputs": [],
      "source": [
        "from sklearn.naive_bayes import GaussianNB\n",
        " \n",
        "#Calling the Class\n",
        "naive_bayes = GaussianNB()\n",
        " \n",
        "#Fitting the data to the classifier\n",
        "naive_bayes.fit(X_train , y_train)\n",
        " \n",
        "#Predict on test data\n",
        "y_predicted = naive_bayes.predict(X_test)"
      ]
    },
    {
      "cell_type": "code",
      "execution_count": 4,
      "metadata": {
        "colab": {
          "base_uri": "https://localhost:8080/"
        },
        "id": "2VN5sASKLHvC",
        "outputId": "26a43113-2d1d-4028-ccd8-e9f493863d69"
      },
      "outputs": [
        {
          "data": {
            "text/plain": [
              "0.956140350877193"
            ]
          },
          "execution_count": 4,
          "metadata": {},
          "output_type": "execute_result"
        }
      ],
      "source": [
        "#Import metrics class from sklearn\n",
        "from sklearn import metrics\n",
        " \n",
        "metrics.accuracy_score(y_predicted , y_test)"
      ]
    }
  ],
  "metadata": {
    "colab": {
      "collapsed_sections": [],
      "name": "NaivesBayes.ipynb",
      "provenance": []
    },
    "kernelspec": {
      "display_name": "Python 3",
      "name": "python3"
    },
    "language_info": {
      "codemirror_mode": {
        "name": "ipython",
        "version": 3
      },
      "file_extension": ".py",
      "mimetype": "text/x-python",
      "name": "python",
      "nbconvert_exporter": "python",
      "pygments_lexer": "ipython3",
      "version": "3.9.2"
    }
  },
  "nbformat": 4,
  "nbformat_minor": 0
}
