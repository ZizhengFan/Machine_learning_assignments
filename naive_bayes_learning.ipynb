{
 "cells": [
  {
   "cell_type": "markdown",
   "metadata": {},
   "source": [
    "同数据相关分析：https://www.freesion.com/article/8705767400/\n"
   ]
  },
  {
   "cell_type": "code",
   "execution_count": 14,
   "metadata": {},
   "outputs": [],
   "source": [
    "import numpy as np\n",
    "import pandas as pd\n",
    "from matplotlib import pyplot as plt\n",
    "\n",
    "from sklearn.model_selection import train_test_split\n",
    "from sklearn.naive_bayes import GaussianNB, MultinomialNB\n",
    "from sklearn import metrics"
   ]
  },
  {
   "cell_type": "code",
   "execution_count": 15,
   "metadata": {},
   "outputs": [],
   "source": [
    "# import MedialCentre.xlsx as pandas Dataframe\n",
    "df_raw = pd.read_excel(\"MedicalCentre.xlsx\")\n",
    "# rename wrong column name\n",
    "df_raw.rename(columns = {'No-show':'No_show'},inplace = True)"
   ]
  },
  {
   "cell_type": "code",
   "execution_count": 16,
   "metadata": {},
   "outputs": [],
   "source": [
    "# 去掉无用的feature\n",
    "# df_raw.drop('index', axis=1, inplace=True)\n",
    "df_raw.drop('PatientId', axis=1, inplace=True)\n",
    "df_raw.drop('AppointmentID', axis=1, inplace=True)\n",
    "\n",
    "#时间化数据\n",
    "df_raw['ScheduledDay'] = pd.to_datetime(df_raw['ScheduledDay'], errors='ignore')\n",
    "df_raw['AppointmentDay'] = pd.to_datetime(df_raw['AppointmentDay'], errors='ignore')\n",
    "\n",
    "#计算时间间隔\n",
    "df_raw['WaitingTime'] = df_raw['AppointmentDay'] - df_raw['ScheduledDay']\n",
    "\n",
    "# WaitingTime列取天数,当天为-1，0\n",
    "df_raw['WaitingTime']= df_raw['WaitingTime'].apply(lambda x: x.days)\n",
    " \n",
    "# 过滤数据\n",
    "df_raw = df_raw[df_raw['WaitingTime']>-1]\n",
    " \n",
    "# df_raw.WaitingTime.describe()"
   ]
  },
  {
   "cell_type": "code",
   "execution_count": 17,
   "metadata": {},
   "outputs": [],
   "source": [
    "# #时间标签\n",
    "# # time_names = ['Sameday','OneDay','OneWeek','TwoWeek','ThreeWeek','OneMonth']\n",
    "# time_names = [0,1,2,3,4,5]\n",
    "# #把数据“分割”成组的边缘列表\n",
    "# time_edges = [-2,0,1,7,13,18,179]\n",
    "\n",
    "# # 创建 WaitingDays 列\n",
    "# df_raw['WaitingDays'] = pd.cut(df_raw['WaitingTime'], time_edges, labels=time_names)\n",
    "\n",
    "# # 显示数据框的前几行，确认更改\n",
    "# df_raw.head()"
   ]
  },
  {
   "cell_type": "code",
   "execution_count": 18,
   "metadata": {},
   "outputs": [],
   "source": [
    "# 对 waiting time 进行数据归一化\n",
    "# df_raw['WaitingTime'] = (df_raw['WaitingTime'] - df_raw['WaitingTime'].mean()) / df_raw['WaitingTime'].std()\n",
    "df_raw['WaitingTime'] = (df_raw['WaitingTime'] - df_raw['WaitingTime'].min()) / (df_raw['WaitingTime'].max() - df_raw['WaitingTime'].min())"
   ]
  },
  {
   "cell_type": "code",
   "execution_count": 19,
   "metadata": {},
   "outputs": [],
   "source": [
    "# #清除年龄异常值\n",
    "# df_raw = df_raw[df_raw['Age']>=0]\n",
    "\n",
    "# #将'Age'列拆分成不同年龄段\n",
    "# #时间标签\n",
    "# age_names = [0, 1, 2, 3, 4]\n",
    "# #把数据“分割”成组的边缘列表\n",
    "# age_edges = [0,6,17,40,65,179]\n",
    "\n",
    "# # 创建 Generation 列\n",
    "# df_raw['Generation'] = pd.cut(df_raw['Age'], age_edges, labels=age_names)\n",
    "\n",
    "# #标准化\n",
    "# # df_raw['Generation'] = (df_raw['Generation']-df_raw['Generation'].min()) / (df_raw['Generation'].max() - df_raw['Generation'].min())\n",
    "# # df_raw['Generation'].max()\n",
    "\n",
    "# # 显示数据框的前几行，确认更改\n",
    "# # df_raw.head()\n",
    "# print(df_raw['Generation'])\n"
   ]
  },
  {
   "cell_type": "code",
   "execution_count": 20,
   "metadata": {},
   "outputs": [],
   "source": [
    "#清除年龄异常值\n",
    "df_raw = df_raw[df_raw['Age']>=0]\n",
    "# 对年龄进行归一化\n",
    "df_raw['Age'] = (df_raw['Age'] - df_raw['Age'].min()) / (df_raw['Age'].max() - df_raw['Age'].min())"
   ]
  },
  {
   "cell_type": "code",
   "execution_count": 21,
   "metadata": {},
   "outputs": [],
   "source": [
    "# 对性别和No show进行二值化分类\n",
    "df_raw[\"Gender\"] = df_raw['Gender'].replace({'F': 0, 'M': 1})\n",
    "df_raw[\"No_show\"] = df_raw['No_show'].replace({'No': 0, 'Yes': 1})"
   ]
  },
  {
   "cell_type": "code",
   "execution_count": 22,
   "metadata": {},
   "outputs": [],
   "source": [
    "# 对neighbourhood进行硬编码\n",
    "neighbourmap = {elem:index+1 for index,elem in enumerate(set(df_raw[\"Neighbourhood\"]))}\n",
    "df_raw['Neighbourhood'] = df_raw['Neighbourhood'].map(neighbourmap)\n",
    "# 归一化\n",
    "df_raw['Neighbourhood'] = (df_raw['Neighbourhood'] - df_raw['Neighbourhood'].min()) / (df_raw['Neighbourhood'].max() - df_raw['Neighbourhood'].min())"
   ]
  },
  {
   "cell_type": "code",
   "execution_count": 23,
   "metadata": {},
   "outputs": [],
   "source": [
    "df_raw.drop('ScheduledDay', axis=1, inplace=True)\n",
    "df_raw.drop('AppointmentDay', axis=1, inplace=True)\n",
    "temp = df_raw.pop('WaitingTime')\n",
    "df_raw.insert(2, 'WaitingTime', temp)\n"
   ]
  },
  {
   "cell_type": "code",
   "execution_count": 24,
   "metadata": {},
   "outputs": [],
   "source": [
    "y = df_raw.pop('No_show')\n",
    "X = df_raw.copy()"
   ]
  },
  {
   "cell_type": "code",
   "execution_count": 25,
   "metadata": {},
   "outputs": [],
   "source": [
    "X_train, X_test, y_train, y_test = train_test_split(X, y, test_size=0.3, random_state=20)"
   ]
  },
  {
   "cell_type": "code",
   "execution_count": 26,
   "metadata": {},
   "outputs": [
    {
     "data": {
      "text/plain": [
       "0.5900500277932185"
      ]
     },
     "execution_count": 26,
     "metadata": {},
     "output_type": "execute_result"
    }
   ],
   "source": [
    "# naive_bayes = GaussianNB()\n",
    "naive_bayes = MultinomialNB()\n",
    " \n",
    "#Fitting the data to the classifier\n",
    "naive_bayes.fit(X_train , y_train)\n",
    " \n",
    "#Predict on test data\n",
    "y_predicted = naive_bayes.predict(X_test)\n",
    "\n",
    "metrics.accuracy_score(y_predicted , y_test)"
   ]
  }
 ],
 "metadata": {
  "interpreter": {
   "hash": "7812ea015bdcee6f23a998adcdd2ef97c151c0c241b7b7070987d9313e41299d"
  },
  "kernelspec": {
   "display_name": "Python 3.9.2 64-bit",
   "language": "python",
   "name": "python3"
  },
  "language_info": {
   "codemirror_mode": {
    "name": "ipython",
    "version": 3
   },
   "file_extension": ".py",
   "mimetype": "text/x-python",
   "name": "python",
   "nbconvert_exporter": "python",
   "pygments_lexer": "ipython3",
   "version": "3.9.2"
  },
  "orig_nbformat": 4
 },
 "nbformat": 4,
 "nbformat_minor": 2
}
