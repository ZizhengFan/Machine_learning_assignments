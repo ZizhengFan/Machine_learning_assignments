{
 "cells": [
  {
   "cell_type": "code",
   "execution_count": 1,
   "metadata": {},
   "outputs": [],
   "source": [
    "import numpy as np\n",
    "import pandas as pd\n",
    "from matplotlib import pyplot as plt\n",
    "import seaborn as sns\n",
    "sns.set(color_codes=True) #导入seaborn包设定颜色\n",
    "\n",
    "from sklearn.model_selection import train_test_split\n",
    "from sklearn import tree\n",
    "from sklearn import metrics"
   ]
  },
  {
   "cell_type": "code",
   "execution_count": 2,
   "metadata": {},
   "outputs": [],
   "source": [
    "from sklearn.datasets import load_digits\n",
    "from sklearn.model_selection import learning_curve\n",
    "from sklearn.model_selection import ShuffleSplit"
   ]
  },
  {
   "cell_type": "code",
   "execution_count": 3,
   "metadata": {},
   "outputs": [],
   "source": [
    "def plot_learning_curve(estimator, title, X, y, ylim=None, cv=None,\n",
    "                        n_jobs=1, train_sizes=np.linspace(.1, 1.0, 5)):\n",
    "    plt.figure()\n",
    "    plt.title(title)\n",
    "    if ylim is not None:\n",
    "        plt.ylim(*ylim)\n",
    "    plt.xlabel(\"Training examples\")\n",
    "    plt.ylabel(\"Score\")\n",
    "    train_sizes, train_scores, test_scores = learning_curve(\n",
    "        estimator, X, y, cv=cv, n_jobs=n_jobs, train_sizes=train_sizes)\n",
    "    train_scores_mean = np.mean(train_scores, axis=1)\n",
    "    train_scores_std = np.std(train_scores, axis=1)\n",
    "    test_scores_mean = np.mean(test_scores, axis=1)\n",
    "    test_scores_std = np.std(test_scores, axis=1)\n",
    "    plt.grid()\n",
    " \n",
    "    plt.fill_between(train_sizes, train_scores_mean - train_scores_std,\n",
    "                     train_scores_mean + train_scores_std, alpha=0.1,\n",
    "                     color=\"r\")\n",
    "    plt.fill_between(train_sizes, test_scores_mean - test_scores_std,\n",
    "                     test_scores_mean + test_scores_std, alpha=0.1, color=\"g\")\n",
    "    plt.plot(train_sizes, train_scores_mean, 'o-', color=\"r\",\n",
    "             label=\"Training score\")\n",
    "    plt.plot(train_sizes, test_scores_mean, 'o-', color=\"g\",\n",
    "             label=\"Cross-validation score\")\n",
    " \n",
    "    plt.legend(loc=\"best\")\n",
    "    return plt"
   ]
  },
  {
   "cell_type": "code",
   "execution_count": 4,
   "metadata": {},
   "outputs": [],
   "source": [
    "# create raw dataframe\n",
    "df_raw = pd.read_excel(\"MedicalCentre.xlsx\")\n",
    "df = df_raw.copy()"
   ]
  },
  {
   "cell_type": "code",
   "execution_count": 5,
   "metadata": {},
   "outputs": [],
   "source": [
    "# rename wrong columns\n",
    "\n",
    "# drop definitely useless columns\n",
    "df.drop('PatientId', axis=1, inplace=True)\n",
    "df.drop('AppointmentID', axis=1, inplace=True)"
   ]
  },
  {
   "cell_type": "code",
   "execution_count": 6,
   "metadata": {},
   "outputs": [
    {
     "data": {
      "text/plain": [
       "Gender            0\n",
       "ScheduledDay      0\n",
       "AppointmentDay    0\n",
       "Age               0\n",
       "Neighbourhood     0\n",
       "Scholarship       0\n",
       "Hipertension      0\n",
       "Diabetes          0\n",
       "Alcoholism        0\n",
       "Handcap           0\n",
       "SMS_received      0\n",
       "No-show           0\n",
       "dtype: int64"
      ]
     },
     "execution_count": 6,
     "metadata": {},
     "output_type": "execute_result"
    }
   ],
   "source": [
    "# dealing with missing data\n",
    "df.isnull().sum()"
   ]
  },
  {
   "cell_type": "code",
   "execution_count": 7,
   "metadata": {},
   "outputs": [
    {
     "name": "stdout",
     "output_type": "stream",
     "text": [
      "F    0.649977\n",
      "M    0.350023\n",
      "Name: Gender, dtype: float64\n",
      "\n",
      "\n",
      "2016-05-06T07:09:54Z    0.000217\n",
      "2016-05-06T07:09:53Z    0.000208\n",
      "2016-04-25T17:18:27Z    0.000199\n",
      "2016-04-25T17:17:46Z    0.000199\n",
      "2016-04-25T17:17:23Z    0.000172\n",
      "                          ...   \n",
      "2016-05-02T09:53:25Z    0.000009\n",
      "2016-05-30T09:12:28Z    0.000009\n",
      "2016-05-16T09:10:04Z    0.000009\n",
      "2016-05-09T10:17:48Z    0.000009\n",
      "2016-04-27T13:30:56Z    0.000009\n",
      "Name: ScheduledDay, Length: 103549, dtype: float64\n",
      "\n",
      "\n",
      "2016-06-06T00:00:00Z    0.042451\n",
      "2016-05-16T00:00:00Z    0.041736\n",
      "2016-05-09T00:00:00Z    0.040895\n",
      "2016-05-30T00:00:00Z    0.040841\n",
      "2016-06-08T00:00:00Z    0.040524\n",
      "2016-05-11T00:00:00Z    0.040479\n",
      "2016-06-01T00:00:00Z    0.040388\n",
      "2016-06-07T00:00:00Z    0.039954\n",
      "2016-05-12T00:00:00Z    0.039755\n",
      "2016-05-02T00:00:00Z    0.039592\n",
      "2016-05-18T00:00:00Z    0.039565\n",
      "2016-05-17T00:00:00Z    0.039556\n",
      "2016-06-02T00:00:00Z    0.038995\n",
      "2016-05-10T00:00:00Z    0.038977\n",
      "2016-05-31T00:00:00Z    0.038715\n",
      "2016-05-05T00:00:00Z    0.038660\n",
      "2016-05-19T00:00:00Z    0.038633\n",
      "2016-05-03T00:00:00Z    0.038506\n",
      "2016-05-04T00:00:00Z    0.037710\n",
      "2016-06-03T00:00:00Z    0.037005\n",
      "2016-05-24T00:00:00Z    0.036272\n",
      "2016-05-13T00:00:00Z    0.036073\n",
      "2016-05-25T00:00:00Z    0.035367\n",
      "2016-05-06T00:00:00Z    0.035095\n",
      "2016-05-20T00:00:00Z    0.034634\n",
      "2016-04-29T00:00:00Z    0.029269\n",
      "2016-05-14T00:00:00Z    0.000353\n",
      "Name: AppointmentDay, dtype: float64\n",
      "\n",
      "\n",
      " 0      0.032019\n",
      " 1      0.020565\n",
      " 52     0.015797\n",
      " 49     0.014947\n",
      " 53     0.014938\n",
      "          ...   \n",
      " 115    0.000045\n",
      " 100    0.000036\n",
      " 102    0.000018\n",
      " 99     0.000009\n",
      "-1      0.000009\n",
      "Name: Age, Length: 104, dtype: float64\n",
      "\n",
      "\n",
      "JARDIM CAMBURI                  0.069820\n",
      "MARIA ORTIZ                     0.052521\n",
      "RESISTÃŠNCIA                    0.040090\n",
      "JARDIM DA PENHA                 0.035077\n",
      "ITARARÃ‰                        0.031793\n",
      "                                  ...   \n",
      "ILHA DO BOI                     0.000317\n",
      "ILHA DO FRADE                   0.000090\n",
      "AEROPORTO                       0.000072\n",
      "ILHAS OCEÃ‚NICAS DE TRINDADE    0.000018\n",
      "PARQUE INDUSTRIAL               0.000009\n",
      "Name: Neighbourhood, Length: 81, dtype: float64\n",
      "\n",
      "\n",
      "0    0.901734\n",
      "1    0.098266\n",
      "Name: Scholarship, dtype: float64\n",
      "\n",
      "\n",
      "0    0.802754\n",
      "1    0.197246\n",
      "Name: Hipertension, dtype: float64\n",
      "\n",
      "\n",
      "0    0.928135\n",
      "1    0.071865\n",
      "Name: Diabetes, dtype: float64\n",
      "\n",
      "\n",
      "0    0.9696\n",
      "1    0.0304\n",
      "Name: Alcoholism, dtype: float64\n",
      "\n",
      "\n",
      "0    0.979724\n",
      "1    0.018475\n",
      "2    0.001656\n",
      "3    0.000118\n",
      "4    0.000027\n",
      "Name: Handcap, dtype: float64\n",
      "\n",
      "\n",
      "0    0.678974\n",
      "1    0.321026\n",
      "Name: SMS_received, dtype: float64\n",
      "\n",
      "\n",
      "No     0.798067\n",
      "Yes    0.201933\n",
      "Name: No-show, dtype: float64\n",
      "\n",
      "\n"
     ]
    }
   ],
   "source": [
    "# determine the frequency of each value in features\n",
    "columns = df.columns\n",
    "for i in columns:\n",
    "    print(df[i].value_counts(normalize = True))\n",
    "    print(\"\\n\")"
   ]
  },
  {
   "cell_type": "code",
   "execution_count": 8,
   "metadata": {},
   "outputs": [],
   "source": [
    "# plot all features within the dataset to visualize for outliers\n",
    "# sns.histplot(df['Age'])\n",
    "# plt.subplot(2, 2, 1)\n",
    "# sns.boxplot(x = df['Age'])\n",
    "# plt.subplot(2, 2, 2)\n",
    "# sns.countplot(x = df['Gender'])\n",
    "# plt.subplot(2, 2, 3)\n",
    "# sns.countplot(x = df['WaitingTime'])\n",
    "# plt.subplot(2, 2, 4)\n",
    "# sns.countplot(x = df['No-show'])\n",
    "# plt.show()"
   ]
  },
  {
   "cell_type": "code",
   "execution_count": 9,
   "metadata": {},
   "outputs": [],
   "source": [
    "# \"Time\" processing\n",
    "# timlize the data from these two columns\n",
    "df['ScheduledDay'] = pd.to_datetime(df_raw['ScheduledDay'], errors='ignore')\n",
    "df['AppointmentDay'] = pd.to_datetime(df_raw['AppointmentDay'], errors='ignore')\n",
    "\n",
    "# create the column of waiting time\n",
    "df['WaitingTime'] = df['AppointmentDay'] - df['ScheduledDay']\n",
    "# convert it into day format and eliminate the negative ones\n",
    "df['WaitingTime']= df['WaitingTime'].apply(lambda x: x.days) + 1\n",
    "\n",
    "# normalize waiting time\n",
    "df['WaitingTime'] = (df['WaitingTime'] - df['WaitingTime'].min()) / \\\n",
    "(df['WaitingTime'].max() - df['WaitingTime'].min())\n",
    "\n"
   ]
  },
  {
   "cell_type": "code",
   "execution_count": 10,
   "metadata": {},
   "outputs": [],
   "source": [
    "# \"Age\" processing\n",
    "# eliminate the outliers of ages which are < 0, or > 100\n",
    "# df = df[df['Age']>=0]\n",
    "# df = df[df['Age']<=100]\n",
    "df = df[(df['Age']>=0) & (df['Age']<=100)]\n",
    "\n",
    "# normalize the age column\n",
    "df['Age'] = (df['Age'] - df['Age'].min()) / (df['Age'].max() - df['Age'].min())"
   ]
  },
  {
   "cell_type": "code",
   "execution_count": 11,
   "metadata": {},
   "outputs": [],
   "source": [
    "# \"Neighbourhood\" processing\n",
    "# df.drop('Neighbourhood', axis=1, inplace=True)\n",
    "neighbourmap = {elem:index+1 for index,elem in enumerate(set(df[\"Neighbourhood\"]))}\n",
    "df['Neighbourhood'] = df['Neighbourhood'].map(neighbourmap)\n",
    "# 归一化\n",
    "df['Neighbourhood'] = (df['Neighbourhood'] - df['Neighbourhood'].min()) / \\\n",
    "(df['Neighbourhood'].max() - df['Neighbourhood'].min())"
   ]
  },
  {
   "cell_type": "code",
   "execution_count": 12,
   "metadata": {},
   "outputs": [],
   "source": [
    "# drop ScheduledDay and AppointmentDay\n",
    "df.drop('ScheduledDay', axis=1, inplace=True)\n",
    "df.drop('AppointmentDay', axis=1, inplace=True)\n",
    "\n",
    "# move the waiting time column to a better place\n",
    "temp = df.pop('WaitingTime')\n",
    "df.insert(2, 'WaitingTime', temp)"
   ]
  },
  {
   "cell_type": "code",
   "execution_count": 13,
   "metadata": {},
   "outputs": [],
   "source": [
    "# binarilize Gender and No-show\n",
    "df[\"Gender\"] = df['Gender'].replace({'F': 0, 'M': 1})\n",
    "df[\"No-show\"] = df['No-show'].replace({'No': 0, 'Yes': 1})"
   ]
  },
  {
   "cell_type": "code",
   "execution_count": 14,
   "metadata": {},
   "outputs": [
    {
     "data": {
      "image/png": "[encoded data removed]",
      "text/plain": [
       "<Figure size 432x288 with 2 Axes>"
      ]
     },
     "metadata": {},
     "output_type": "display_data"
    }
   ],
   "source": [
    "# process correlating features\n",
    "corr = df.corr()\n",
    "sns.heatmap(corr,\n",
    "            xticklabels = corr.columns,\n",
    "            yticklabels = corr.columns)\n",
    "df.drop('Hipertension', axis=1, inplace=True)\n",
    "df.drop('SMS_received', axis=1, inplace=True)"
   ]
  },
  {
   "cell_type": "code",
   "execution_count": 15,
   "metadata": {},
   "outputs": [
    {
     "data": {
      "image/png": "[encoded data removed]",
      "text/plain": [
       "<Figure size 432x288 with 4 Axes>"
      ]
     },
     "metadata": {},
     "output_type": "display_data"
    }
   ],
   "source": [
    "plt.subplot(2, 2, 1)\n",
    "sns.boxplot(x = df['Age'])\n",
    "plt.subplot(2, 2, 2)\n",
    "sns.countplot(x = df['Gender'])\n",
    "plt.subplot(2, 2, 3)\n",
    "sns.histplot(x = df['WaitingTime'])\n",
    "plt.subplot(2, 2, 4)\n",
    "sns.countplot(x = df['No-show'])\n",
    "plt.show()"
   ]
  },
  {
   "cell_type": "code",
   "execution_count": 16,
   "metadata": {},
   "outputs": [],
   "source": [
    "y = df.pop('No-show')\n",
    "X = df.copy()\n",
    "\n",
    "X_train, X_test, y_train, y_test = train_test_split(X, y, \n",
    "                                                    test_size=0.3, \n",
    "                                                    random_state=20)"
   ]
  },
  {
   "cell_type": "code",
   "execution_count": 17,
   "metadata": {},
   "outputs": [
    {
     "name": "stdout",
     "output_type": "stream",
     "text": [
      "[[22524  4592]\n",
      " [ 3906  2134]]\n",
      "The accuracy of the Decision Tree classifier on training data is 0.96\n",
      "The accuracy of the Decision Tree classifier on test data is 0.74\n"
     ]
    }
   ],
   "source": [
    "# naive_bayes = GaussianNB()\n",
    "decision_tree = tree.DecisionTreeClassifier(criterion='gini')\n",
    " \n",
    "#Fitting the data to the classifier\n",
    "decision_tree.fit(X_train, y_train)\n",
    "y_predicted = decision_tree.predict(X_test)\n",
    "\n",
    "m = metrics.confusion_matrix(y_predicted , y_test)\n",
    "print(m)\n",
    "#Predict on test data\n",
    "print('The accuracy of the Decision Tree classifier on training data is {:.2f}'.format(decision_tree.score(X_train, y_train)))\n",
    "print('The accuracy of the Decision Tree classifier on test data is {:.2f}'.format(decision_tree.score(X_test, y_test)))"
   ]
  },
  {
   "cell_type": "code",
   "execution_count": 18,
   "metadata": {},
   "outputs": [
    {
     "data": {
      "image/png": "[encoded data removed]",
      "text/plain": [
       "<Figure size 432x288 with 1 Axes>"
      ]
     },
     "metadata": {},
     "output_type": "display_data"
    }
   ],
   "source": [
    "title = r\"Learning Curves (Decision Tree)\"\n",
    "cv = ShuffleSplit(n_splits=10, test_size=0.2, random_state=10)\n",
    "plot_learning_curve(decision_tree, title, X, y, ylim=(0.7, 1.01), cv=cv, n_jobs=1)\n",
    "plt.show()"
   ]
  }
 ],
 "metadata": {
  "interpreter": {
   "hash": "7812ea015bdcee6f23a998adcdd2ef97c151c0c241b7b7070987d9313e41299d"
  },
  "kernelspec": {
   "display_name": "Python 3.9.2 64-bit",
   "language": "python",
   "name": "python3"
  },
  "language_info": {
   "codemirror_mode": {
    "name": "ipython",
    "version": 3
   },
   "file_extension": ".py",
   "mimetype": "text/x-python",
   "name": "python",
   "nbconvert_exporter": "python",
   "pygments_lexer": "ipython3",
   "version": "3.9.2"
  },
  "orig_nbformat": 4
 },
 "nbformat": 4,
 "nbformat_minor": 2
}
